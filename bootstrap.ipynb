{
 "cells": [
  {
   "cell_type": "code",
   "execution_count": 1,
   "id": "13db42e2-cc4a-4d8b-8db5-a688d021fdb7",
   "metadata": {},
   "outputs": [],
   "source": [
    "import matplotlib.pyplot as plt\n",
    "import numpy as np"
   ]
  },
  {
   "cell_type": "code",
   "execution_count": 2,
   "id": "b85638c4-d6c8-403c-972b-f3da140d4f82",
   "metadata": {},
   "outputs": [
    {
     "data": {
      "text/plain": [
       "(1.000848495407991, 1.0005883299228109)"
      ]
     },
     "execution_count": 2,
     "metadata": {},
     "output_type": "execute_result"
    }
   ],
   "source": [
    "n = 1000000\n",
    "#vars = np.random.rand(n)\n",
    "#vars = np.random.normal(0, 1, n)\n",
    "vars = np.random.exponential(1, n)\n",
    "#vars = np.random.lognormal(0, 1, n)\n",
    "vars.mean(), vars.std()"
   ]
  },
  {
   "cell_type": "code",
   "execution_count": 3,
   "id": "9f20ee07-8655-4c7e-ba1a-e61eb120e5ea",
   "metadata": {},
   "outputs": [
    {
     "data": {
      "image/png": "[encoded data removed]",
      "text/plain": [
       "<Figure size 432x288 with 1 Axes>"
      ]
     },
     "metadata": {
      "needs_background": "light"
     },
     "output_type": "display_data"
    }
   ],
   "source": [
    "bins = 50\n",
    "_ = plt.hist(vars, bins = bins)"
   ]
  },
  {
   "cell_type": "code",
   "execution_count": 4,
   "id": "57d896bb-f525-4485-911e-e55371e59a11",
   "metadata": {},
   "outputs": [],
   "source": [
    "toys = 10000\n",
    "means = []\n",
    "size = int(0.05 * n)\n",
    "for i in range(toys):\n",
    "    subset = np.random.choice(vars, size = size, replace = True)\n",
    "    means.append(subset.mean())\n",
    "means = np.array(means)"
   ]
  },
  {
   "cell_type": "code",
   "execution_count": 5,
   "id": "a581478e-a672-4be6-a578-904d5c5ee0b6",
   "metadata": {},
   "outputs": [
    {
     "data": {
      "image/png": "[encoded data removed]",
      "text/plain": [
       "<Figure size 432x288 with 1 Axes>"
      ]
     },
     "metadata": {
      "needs_background": "light"
     },
     "output_type": "display_data"
    }
   ],
   "source": [
    "bins = 50\n",
    "_ = plt.hist(means, bins = bins)\n",
    "_ = plt.axvline(vars.mean(), c = 'red')"
   ]
  },
  {
   "cell_type": "code",
   "execution_count": 6,
   "id": "5de64b5e-5c51-4e07-a714-3f8c7c2eef84",
   "metadata": {},
   "outputs": [
    {
     "data": {
      "text/plain": [
       "1.000812846519923"
      ]
     },
     "execution_count": 6,
     "metadata": {},
     "output_type": "execute_result"
    }
   ],
   "source": [
    "means.mean()"
   ]
  },
  {
   "cell_type": "code",
   "execution_count": 7,
   "id": "351c60e0-6386-4f0a-83ab-54bb4cc501c0",
   "metadata": {},
   "outputs": [
    {
     "data": {
      "text/plain": [
       "(0.9963086919629529, 1.0053502510690884)"
      ]
     },
     "execution_count": 7,
     "metadata": {},
     "output_type": "execute_result"
    }
   ],
   "source": [
    "np.percentile(means, 16), np.percentile(means, 84)"
   ]
  }
 ],
 "metadata": {
  "kernelspec": {
   "display_name": "Python 3 (ipykernel)",
   "language": "python",
   "name": "python3"
  },
  "language_info": {
   "codemirror_mode": {
    "name": "ipython",
    "version": 3
   },
   "file_extension": ".py",
   "mimetype": "text/x-python",
   "name": "python",
   "nbconvert_exporter": "python",
   "pygments_lexer": "ipython3",
   "version": "3.9.6"
  }
 },
 "nbformat": 4,
 "nbformat_minor": 5
}
